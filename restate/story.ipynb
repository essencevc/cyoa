{
 "cells": [
  {
   "cell_type": "code",
   "execution_count": 1,
   "metadata": {},
   "outputs": [],
   "source": [
    "%load_ext autoreload\n",
    "%autoreload 2"
   ]
  },
  {
   "cell_type": "code",
   "execution_count": 119,
   "metadata": {},
   "outputs": [
    {
     "data": {
      "text/html": [
       "<pre style=\"white-space:pre;overflow-x:auto;line-height:normal;font-family:Menlo,'DejaVu Sans Mono',consolas,'Courier New',monospace\"><span style=\"color: #800080; text-decoration-color: #800080; font-weight: bold\">StoryOutline</span><span style=\"font-weight: bold\">(</span>\n",
       "    <span style=\"color: #808000; text-decoration-color: #808000\">title</span>=<span style=\"color: #008000; text-decoration-color: #008000\">'The Last Echo'</span>,\n",
       "    <span style=\"color: #808000; text-decoration-color: #808000\">description</span>=<span style=\"color: #008000; text-decoration-color: #008000\">\"The man wakes up in a world he doesn't recognize, buildings are destroyed and nature has begun to </span>\n",
       "<span style=\"color: #008000; text-decoration-color: #008000\">reclaim what was once a thriving city. He has no memory of how he got here, only a burning desire to find out what </span>\n",
       "<span style=\"color: #008000; text-decoration-color: #008000\">happened. His journey begins as he navigates through the ruins.\"</span>,\n",
       "    <span style=\"color: #808000; text-decoration-color: #808000\">melody</span>=<span style=\"color: #008000; text-decoration-color: #008000\">'A slow, melancholic melody with a hint of hope, played on a lone piano. The music is sparse, with long </span>\n",
       "<span style=\"color: #008000; text-decoration-color: #008000\">sustained notes that create a sense of emptiness and isolation. As the man ventures forward, the tempo increases </span>\n",
       "<span style=\"color: #008000; text-decoration-color: #008000\">and more instruments join in, adding a layer of determination and drive.'</span>,\n",
       "    <span style=\"color: #808000; text-decoration-color: #808000\">banner_image</span>=<span style=\"color: #008000; text-decoration-color: #008000\">'Retro Pixel, A pixelated image of a lone man standing in a desolate, ruined city. The man is </span>\n",
       "<span style=\"color: #008000; text-decoration-color: #008000\">wearing tattered clothes and has a determined look on his face. The city buildings are crumbling, with broken </span>\n",
       "<span style=\"color: #008000; text-decoration-color: #008000\">windows and overgrown vegetation. The sky is a hazy, orange color, suggesting a polluted atmosphere.'</span>\n",
       "<span style=\"font-weight: bold\">)</span>\n",
       "</pre>\n"
      ],
      "text/plain": [
       "\u001b[1;35mStoryOutline\u001b[0m\u001b[1m(\u001b[0m\n",
       "    \u001b[33mtitle\u001b[0m=\u001b[32m'The Last Echo'\u001b[0m,\n",
       "    \u001b[33mdescription\u001b[0m=\u001b[32m\"The\u001b[0m\u001b[32m man wakes up in a world he doesn't recognize, buildings are destroyed and nature has begun to \u001b[0m\n",
       "\u001b[32mreclaim what was once a thriving city. He has no memory of how he got here, only a burning desire to find out what \u001b[0m\n",
       "\u001b[32mhappened. His journey begins as he navigates through the ruins.\"\u001b[0m,\n",
       "    \u001b[33mmelody\u001b[0m=\u001b[32m'A slow, melancholic melody with a hint of hope, played on a lone piano. The music is sparse, with long \u001b[0m\n",
       "\u001b[32msustained notes that create a sense of emptiness and isolation. As the man ventures forward, the tempo increases \u001b[0m\n",
       "\u001b[32mand more instruments join in, adding a layer of determination and drive.'\u001b[0m,\n",
       "    \u001b[33mbanner_image\u001b[0m=\u001b[32m'Retro Pixel, A pixelated image of a lone man standing in a desolate, ruined city. The man is \u001b[0m\n",
       "\u001b[32mwearing tattered clothes and has a determined look on his face. The city buildings are crumbling, with broken \u001b[0m\n",
       "\u001b[32mwindows and overgrown vegetation. The sky is a hazy, orange color, suggesting a polluted atmosphere.'\u001b[0m\n",
       "\u001b[1m)\u001b[0m\n"
      ]
     },
     "metadata": {},
     "output_type": "display_data"
    }
   ],
   "source": [
    "import instructor\n",
    "import google.generativeai as genai\n",
    "from pydantic import BaseModel\n",
    "from rich import print\n",
    "\n",
    "client = instructor.from_gemini(genai.GenerativeModel(\"gemini-2.0-flash-exp\"))\n",
    "\n",
    "\n",
    "class StoryOutline(BaseModel):\n",
    "    title: str\n",
    "    description:str\n",
    "    melody:str\n",
    "    banner_image:str\n",
    "\n",
    "user_prompt = \"write me a story about a man who finds himself in a post apocalyptic world\"\n",
    "\n",
    "\n",
    "resp = client.chat.completions.create(\n",
    "    response_model=StoryOutline,\n",
    "    messages=[\n",
    "        {\n",
    "            \"role\":\"system\",\n",
    "            \"content\": \"\"\"\n",
    "            You're going to be given a prompt by a user. Based off the prompt generate the following\n",
    "\n",
    "            1. A title for a story based off the prompt\n",
    "            2. A 2-3 sentence description for an initial starting point where we can start the story\n",
    "            3. A 2-3 sentence description of a melody/beat that would be suitable to be played while the story is being told - this can be anything as long as it matches the story\n",
    "            4. A long and descriptive description of a banner image in pixel art style that would be suitable for the story as cover art\n",
    "\n",
    "            Remember that we are just generating a starting point for the story. We'll be generating more situations as the user progresses through the story so don't worry about the story being complete.\n",
    "\n",
    "            Here are some examples of what the banner image description should look like\n",
    "            <banner examples>\n",
    "                Retro Pixel, A pixelated image of a german shepherd dog. The dogs fur is a vibrant shade of brown, with a black stripe running down its back. The background is a light green, and the dogs shadow is cast on the ground.\n",
    "\n",
    "                Retro Pixel, A pixelated image of a man surfing on a surfboard. The mans body is covered in a red shirt and blue shorts. His arms are out to the sides of his body. The surfboard is a vibrant blue color. The water is a light blue color with white splashes. The sun is shining on the right side of the image.\n",
    "\n",
    "                Retro Pixel, pixel art of a Hamburger in the style of an old video game, hero, pixelated 8bit, final boss \n",
    "            </banner examples>\n",
    "            \"\"\"\n",
    "        },\n",
    "        {\n",
    "            \"role\":\"user\",\n",
    "            \"content\": user_prompt\n",
    "        }\n",
    "    ]\n",
    ")\n",
    "\n",
    "print(resp)"
   ]
  },
  {
   "cell_type": "code",
   "execution_count": 120,
   "metadata": {},
   "outputs": [],
   "source": [
    "from pydantic import Field, field_validator\n",
    "\n",
    "class Choice(BaseModel):\n",
    "    title:str\n",
    "    description:str\n",
    "\n",
    "class Situation(BaseModel):\n",
    "    is_terminal:bool = Field(description=\"Whether this is the end of the story\")\n",
    "    title:str = Field(description=\"A short title that describes the situation\")\n",
    "    description:str \n",
    "    image:str\n",
    "    user_choices:list[Choice]\n",
    "\n",
    "    @field_validator(\"user_choices\")\n",
    "    def validate_user_choices(cls, v):\n",
    "        if len(v) < 3 or len(v) > 4:\n",
    "            raise ValueError(\"User choices must be between 3 and 4\")\n",
    "        return v\n",
    "\n",
    "class UserChoice(BaseModel):\n",
    "    title: str\n",
    "    description: str\n",
    "\n",
    "\n",
    "def get_next_situation(story_description: str, story_title: str, previous_choices: list[UserChoice], max_depth:int=3) -> Situation:\n",
    "    client = instructor.from_gemini(genai.GenerativeModel(\"gemini-1.5-flash-latest\"))\n",
    "    choices = client.chat.completions.create(\n",
    "        response_model=Situation,\n",
    "        messages=[\n",
    "            {\n",
    "                \"role\":\"system\",\n",
    "                \"content\": \"\"\"\n",
    "                You're going to be given a story description and choices that a user has made up to this point. \n",
    "                \n",
    "                {% if steps_remaining == 0 %}\n",
    "                You must end the story in this choice. The story should reach a satisfying conclusion with no further choices available.\n",
    "\n",
    "                Your job is to generate the following\n",
    "                - A title to conclude the story thus far\n",
    "                - A 2-3 sentence description for what happens now that the storyis complete\n",
    "                - An image which depics the final conclusion of the story\n",
    "                - An empty list for user_choices since the story is complete\n",
    "\n",
    "                Rules\n",
    "                - The story must end in this situation with a satisfying conclusion. Make sure that the user either dies, wins or reaches the end of the story by then. There cannot be any more choices available to the user.\n",
    "\n",
    "                Here are some examples of what the image description should look like. Remember that it should showcase the final scene now that the story is complete.\n",
    "                {% else %}\n",
    "                Continue the story with interesting choices that progress toward a conclusion.\n",
    "\n",
    "                Your job is to generate the following\n",
    "                \n",
    "                1. A title for the situation thus far\n",
    "                2. A 2-3 sentence description for what happens between the previous situations and when the user is faced with the choices\n",
    "                3. A list of 3-4 choices that the user can make.\n",
    "                4. An image which depicts the current situation the user is facing\n",
    "\n",
    "                Rules:\n",
    "                - If you determine that the story is complete, return an empty list for the user_choices and return is_terminal as True\n",
    "                - Story choices should be unique and interesting and move the story in very distinct directions\n",
    "                - Write complete sentences and use proper grammar and punctuation. Make sure to output valid strings.\n",
    "                - Choices descriptions should be 1-2 sentences and describe the significance of the choice\n",
    "                - Choices should not bring the user back to the a previous situation\n",
    "                - The story should end in {{ steps_remaining }} more choices at most. This means that the main character should either die, win, or reach the end of the story by then. There should be no more choices provided to the user ( and the user should not be able to make any more choices)\n",
    "\n",
    "                Here are some examples of what the image description should look like. Remember that it should showcase what the current situation is like and what the user is facing from the last choice he has made when he is about to make the choice\n",
    "                {% endif %}\n",
    "                \n",
    "                <banner examples>\n",
    "                    Retro Pixel, A pixelated image of a german shepherd dog. The dogs fur is a vibrant shade of brown, with a black stripe running down its back. The background is a light green, and the dogs shadow is cast on the ground.\n",
    "\n",
    "                    Retro Pixel, A pixelated image of a man surfing on a surfboard. The mans body is covered in a red shirt and blue shorts. His arms are out to the sides of his body. The surfboard is a vibrant blue color. The water is a light blue color with white splashes. The sun is shining on the right side of the image.\n",
    "\n",
    "                    Retro Pixel, pixel art of a Hamburger in the style of an old video game, hero, pixelated 8bit, final boss \n",
    "                </banner examples>\n",
    "                \"\"\"\n",
    "            },\n",
    "            {\n",
    "                \"role\":\"user\",\n",
    "                \"content\": \"\"\"\n",
    "                Here is the initial story description that we started with\n",
    "\n",
    "                Story title: {{ story_title }}\n",
    "                Story description: {{ story_description }}\n",
    "\n",
    "                Here are the choices that the user has made:\n",
    "                {% for choice in previous_choices %}\n",
    "                - {{ choice.title }} : {{ choice.description }}\n",
    "                {% endfor %}\n",
    "\n",
    "                {% if steps_remaining == 0 %}\n",
    "                Take into account the choices that the user has made so far and generate a final situation that concludes the story.\n",
    "                {% else %}\n",
    "                \n",
    "                Take into account the choices that the user has made so far and generate a new situation that progresses the story.\n",
    "                {% endif %}\n",
    "                \"\"\"\n",
    "            }\n",
    "        ],\n",
    "        context={\n",
    "            \"story_title\": story_title,\n",
    "            \"story_description\": story_description,\n",
    "            \"previous_choices\": previous_choices,\n",
    "            \"steps_remaining\": max_depth - len(previous_choices)\n",
    "        }\n",
    "    )\n",
    "    \n",
    "    return choices"
   ]
  },
  {
   "cell_type": "code",
   "execution_count": 121,
   "metadata": {},
   "outputs": [
    {
     "data": {
      "text/html": [
       "<pre style=\"white-space:pre;overflow-x:auto;line-height:normal;font-family:Menlo,'DejaVu Sans Mono',consolas,'Courier New',monospace\"><span style=\"color: #800080; text-decoration-color: #800080; font-weight: bold\">Situation</span><span style=\"font-weight: bold\">(</span>\n",
       "    <span style=\"color: #808000; text-decoration-color: #808000\">is_terminal</span>=<span style=\"color: #00ff00; text-decoration-color: #00ff00; font-style: italic\">True</span>,\n",
       "    <span style=\"color: #808000; text-decoration-color: #808000\">title</span>=<span style=\"color: #008000; text-decoration-color: #008000\">'The Scholar'</span>,\n",
       "    <span style=\"color: #808000; text-decoration-color: #808000\">description</span>=<span style=\"color: #008000; text-decoration-color: #008000\">'The Wanderer, having journeyed far and wide, finally discovers an ancient text detailing </span>\n",
       "<span style=\"color: #008000; text-decoration-color: #008000\">individuals born without magical susceptibility. He learns his condition is not a curse, but a unique biological </span>\n",
       "<span style=\"color: #008000; text-decoration-color: #008000\">anomaly, a key to understanding the very fabric of magic itself. He chooses to dedicate his life to researching </span>\n",
       "<span style=\"color: #008000; text-decoration-color: #008000\">this anomaly, becoming a renowned scholar and unlocking new avenues of magical understanding.'</span>,\n",
       "    <span style=\"color: #808000; text-decoration-color: #808000\">image</span>=<span style=\"color: #008000; text-decoration-color: #008000\">'Retro Pixel, A pixelated image of a man in a robe studying an ancient text. The man has a thoughtful </span>\n",
       "<span style=\"color: #008000; text-decoration-color: #008000\">expression on his face. The background is a dimly lit library filled with bookshelves.'</span>,\n",
       "    <span style=\"color: #808000; text-decoration-color: #808000\">user_choices</span>=<span style=\"font-weight: bold\">[</span>\n",
       "        <span style=\"color: #800080; text-decoration-color: #800080; font-weight: bold\">Choice</span><span style=\"font-weight: bold\">(</span><span style=\"color: #808000; text-decoration-color: #808000\">title</span>=<span style=\"color: #008000; text-decoration-color: #008000\">''</span>, <span style=\"color: #808000; text-decoration-color: #808000\">description</span>=<span style=\"color: #008000; text-decoration-color: #008000\">''</span><span style=\"font-weight: bold\">)</span>,\n",
       "        <span style=\"color: #800080; text-decoration-color: #800080; font-weight: bold\">Choice</span><span style=\"font-weight: bold\">(</span><span style=\"color: #808000; text-decoration-color: #808000\">title</span>=<span style=\"color: #008000; text-decoration-color: #008000\">''</span>, <span style=\"color: #808000; text-decoration-color: #808000\">description</span>=<span style=\"color: #008000; text-decoration-color: #008000\">''</span><span style=\"font-weight: bold\">)</span>,\n",
       "        <span style=\"color: #800080; text-decoration-color: #800080; font-weight: bold\">Choice</span><span style=\"font-weight: bold\">(</span><span style=\"color: #808000; text-decoration-color: #808000\">title</span>=<span style=\"color: #008000; text-decoration-color: #008000\">''</span>, <span style=\"color: #808000; text-decoration-color: #808000\">description</span>=<span style=\"color: #008000; text-decoration-color: #008000\">''</span><span style=\"font-weight: bold\">)</span>\n",
       "    <span style=\"font-weight: bold\">]</span>\n",
       "<span style=\"font-weight: bold\">)</span>\n",
       "</pre>\n"
      ],
      "text/plain": [
       "\u001b[1;35mSituation\u001b[0m\u001b[1m(\u001b[0m\n",
       "    \u001b[33mis_terminal\u001b[0m=\u001b[3;92mTrue\u001b[0m,\n",
       "    \u001b[33mtitle\u001b[0m=\u001b[32m'The Scholar'\u001b[0m,\n",
       "    \u001b[33mdescription\u001b[0m=\u001b[32m'The Wanderer, having journeyed far and wide, finally discovers an ancient text detailing \u001b[0m\n",
       "\u001b[32mindividuals born without magical susceptibility. He learns his condition is not a curse, but a unique biological \u001b[0m\n",
       "\u001b[32manomaly, a key to understanding the very fabric of magic itself. He chooses to dedicate his life to researching \u001b[0m\n",
       "\u001b[32mthis anomaly, becoming a renowned scholar and unlocking new avenues of magical understanding.'\u001b[0m,\n",
       "    \u001b[33mimage\u001b[0m=\u001b[32m'Retro Pixel, A pixelated image of a man in a robe studying an ancient text. The man has a thoughtful \u001b[0m\n",
       "\u001b[32mexpression on his face. The background is a dimly lit library filled with bookshelves.'\u001b[0m,\n",
       "    \u001b[33muser_choices\u001b[0m=\u001b[1m[\u001b[0m\n",
       "        \u001b[1;35mChoice\u001b[0m\u001b[1m(\u001b[0m\u001b[33mtitle\u001b[0m=\u001b[32m''\u001b[0m, \u001b[33mdescription\u001b[0m=\u001b[32m''\u001b[0m\u001b[1m)\u001b[0m,\n",
       "        \u001b[1;35mChoice\u001b[0m\u001b[1m(\u001b[0m\u001b[33mtitle\u001b[0m=\u001b[32m''\u001b[0m, \u001b[33mdescription\u001b[0m=\u001b[32m''\u001b[0m\u001b[1m)\u001b[0m,\n",
       "        \u001b[1;35mChoice\u001b[0m\u001b[1m(\u001b[0m\u001b[33mtitle\u001b[0m=\u001b[32m''\u001b[0m, \u001b[33mdescription\u001b[0m=\u001b[32m''\u001b[0m\u001b[1m)\u001b[0m\n",
       "    \u001b[1m]\u001b[0m\n",
       "\u001b[1m)\u001b[0m\n"
      ]
     },
     "metadata": {},
     "output_type": "display_data"
    }
   ],
   "source": [
    "choices = []\n",
    "max_depth = 0\n",
    "choice_1 = get_next_situation(\n",
    "    \"Born without the ability to be affected by magic, a young man seeks to understand the origin of his unique immunity. He spends his formative years traveling the land, seeking answers from hermits, scholars, and mages\",\n",
    "    \"The Magicless Wanderer\",\n",
    "    [],\n",
    "    max_depth,\n",
    ")\n",
    "print(choice_1)"
   ]
  },
  {
   "cell_type": "code",
   "execution_count": 108,
   "metadata": {},
   "outputs": [
    {
     "data": {
      "text/html": [
       "<pre style=\"white-space:pre;overflow-x:auto;line-height:normal;font-family:Menlo,'DejaVu Sans Mono',consolas,'Courier New',monospace\"><span style=\"font-weight: bold\">[</span>\n",
       "    <span style=\"color: #800080; text-decoration-color: #800080; font-weight: bold\">UserChoice</span><span style=\"font-weight: bold\">(</span>\n",
       "        <span style=\"color: #808000; text-decoration-color: #808000\">title</span>=<span style=\"color: #008000; text-decoration-color: #008000\">'Press Onward'</span>,\n",
       "        <span style=\"color: #808000; text-decoration-color: #808000\">description</span>=<span style=\"color: #008000; text-decoration-color: #008000\">'The man pushes through the debris, his boots crunching on broken glass and twisted metal.  He </span>\n",
       "<span style=\"color: #008000; text-decoration-color: #008000\">sees a flickering light in the distance, a beacon of hope in this desolate landscape. Will he risk venturing </span>\n",
       "<span style=\"color: #008000; text-decoration-color: #008000\">towards the unknown?. User chose to Press forward toward the light, hoping it signals safety or help. This path is </span>\n",
       "<span style=\"color: #008000; text-decoration-color: #008000\">fraught with unknown dangers, but the hope of rescue keeps him moving.'</span>\n",
       "    <span style=\"font-weight: bold\">)</span>\n",
       "<span style=\"font-weight: bold\">]</span>\n",
       "</pre>\n"
      ],
      "text/plain": [
       "\u001b[1m[\u001b[0m\n",
       "    \u001b[1;35mUserChoice\u001b[0m\u001b[1m(\u001b[0m\n",
       "        \u001b[33mtitle\u001b[0m=\u001b[32m'Press Onward'\u001b[0m,\n",
       "        \u001b[33mdescription\u001b[0m=\u001b[32m'The man pushes through the debris, his boots crunching on broken glass and twisted metal.  He \u001b[0m\n",
       "\u001b[32msees a flickering light in the distance, a beacon of hope in this desolate landscape. Will he risk venturing \u001b[0m\n",
       "\u001b[32mtowards the unknown?. User chose to Press forward toward the light, hoping it signals safety or help. This path is \u001b[0m\n",
       "\u001b[32mfraught with unknown dangers, but the hope of rescue keeps him moving.'\u001b[0m\n",
       "    \u001b[1m)\u001b[0m\n",
       "\u001b[1m]\u001b[0m\n"
      ]
     },
     "metadata": {},
     "output_type": "display_data"
    }
   ],
   "source": [
    "chosen_choice = choice_1.user_choices[0]\n",
    "choices.append(\n",
    "    UserChoice(\n",
    "        title=chosen_choice.title,\n",
    "        description=f\"\"\"\n",
    "        {choice_1.description}. User chose to {chosen_choice.description}\n",
    "        \"\"\".strip()\n",
    "    )\n",
    ")\n",
    "print(choices)"
   ]
  },
  {
   "cell_type": "code",
   "execution_count": 109,
   "metadata": {},
   "outputs": [
    {
     "data": {
      "text/html": [
       "<pre style=\"white-space:pre;overflow-x:auto;line-height:normal;font-family:Menlo,'DejaVu Sans Mono',consolas,'Courier New',monospace\"><span style=\"color: #800080; text-decoration-color: #800080; font-weight: bold\">Situation</span><span style=\"font-weight: bold\">(</span>\n",
       "    <span style=\"color: #808000; text-decoration-color: #808000\">is_terminal</span>=<span style=\"color: #ff0000; text-decoration-color: #ff0000; font-style: italic\">False</span>,\n",
       "    <span style=\"color: #808000; text-decoration-color: #808000\">title</span>=<span style=\"color: #008000; text-decoration-color: #008000\">'Wasteland Wanderer: The Abandoned Building'</span>,\n",
       "    <span style=\"color: #808000; text-decoration-color: #808000\">description</span>=<span style=\"color: #008000; text-decoration-color: #008000\">'The flickering light leads him to an old, abandoned building.  The entrance is partially blocked </span>\n",
       "<span style=\"color: #008000; text-decoration-color: #008000\">by rubble, but a narrow passage is visible. Inside, he hears faint whispers and the metallic clang of something </span>\n",
       "<span style=\"color: #008000; text-decoration-color: #008000\">being worked on. Does he dare enter, or seek another path?'</span>,\n",
       "    <span style=\"color: #808000; text-decoration-color: #808000\">image</span>=<span style=\"color: #008000; text-decoration-color: #008000\">'Retro Pixel, A pixelated image of an abandoned building with a flickering light in a window. Rubble </span>\n",
       "<span style=\"color: #008000; text-decoration-color: #008000\">blocks the entrance, but a narrow passage is visible. The background is dark and desolate.'</span>,\n",
       "    <span style=\"color: #808000; text-decoration-color: #808000\">user_choices</span>=<span style=\"font-weight: bold\">[</span>\n",
       "        <span style=\"color: #800080; text-decoration-color: #800080; font-weight: bold\">Choice</span><span style=\"font-weight: bold\">(</span>\n",
       "            <span style=\"color: #808000; text-decoration-color: #808000\">title</span>=<span style=\"color: #008000; text-decoration-color: #008000\">'Enter'</span>,\n",
       "            <span style=\"color: #808000; text-decoration-color: #808000\">description</span>=<span style=\"color: #008000; text-decoration-color: #008000\">'Enter the building - The whispers and metallic sounds suggest activity inside, possibly </span>\n",
       "<span style=\"color: #008000; text-decoration-color: #008000\">help or danger.  Choosing this path could lead to unexpected encounters.'</span>\n",
       "        <span style=\"font-weight: bold\">)</span>,\n",
       "        <span style=\"color: #800080; text-decoration-color: #800080; font-weight: bold\">Choice</span><span style=\"font-weight: bold\">(</span>\n",
       "            <span style=\"color: #808000; text-decoration-color: #808000\">title</span>=<span style=\"color: #008000; text-decoration-color: #008000\">'Seek another path'</span>,\n",
       "            <span style=\"color: #808000; text-decoration-color: #808000\">description</span>=<span style=\"color: #008000; text-decoration-color: #008000\">'Find another path -  He could try searching for another route, avoiding the building.  </span>\n",
       "<span style=\"color: #008000; text-decoration-color: #008000\">This might lead him to a different, potentially safer location, but he might miss an opportunity for help.'</span>\n",
       "        <span style=\"font-weight: bold\">)</span>,\n",
       "        <span style=\"color: #800080; text-decoration-color: #800080; font-weight: bold\">Choice</span><span style=\"font-weight: bold\">(</span>\n",
       "            <span style=\"color: #808000; text-decoration-color: #808000\">title</span>=<span style=\"color: #008000; text-decoration-color: #008000\">'Try to communicate'</span>,\n",
       "            <span style=\"color: #808000; text-decoration-color: #808000\">description</span>=<span style=\"color: #008000; text-decoration-color: #008000\">'Try to communicate - The man shouts into the passage to see if someone is in there. This </span>\n",
       "<span style=\"color: #008000; text-decoration-color: #008000\">is a low risk but potentially high reward action. He may find help, but he might also attract unwanted attention.'</span>\n",
       "        <span style=\"font-weight: bold\">)</span>\n",
       "    <span style=\"font-weight: bold\">]</span>\n",
       "<span style=\"font-weight: bold\">)</span>\n",
       "</pre>\n"
      ],
      "text/plain": [
       "\u001b[1;35mSituation\u001b[0m\u001b[1m(\u001b[0m\n",
       "    \u001b[33mis_terminal\u001b[0m=\u001b[3;91mFalse\u001b[0m,\n",
       "    \u001b[33mtitle\u001b[0m=\u001b[32m'Wasteland Wanderer: The Abandoned Building'\u001b[0m,\n",
       "    \u001b[33mdescription\u001b[0m=\u001b[32m'The flickering light leads him to an old, abandoned building.  The entrance is partially blocked \u001b[0m\n",
       "\u001b[32mby rubble, but a narrow passage is visible. Inside, he hears faint whispers and the metallic clang of something \u001b[0m\n",
       "\u001b[32mbeing worked on. Does he dare enter, or seek another path?'\u001b[0m,\n",
       "    \u001b[33mimage\u001b[0m=\u001b[32m'Retro Pixel, A pixelated image of an abandoned building with a flickering light in a window. Rubble \u001b[0m\n",
       "\u001b[32mblocks the entrance, but a narrow passage is visible. The background is dark and desolate.'\u001b[0m,\n",
       "    \u001b[33muser_choices\u001b[0m=\u001b[1m[\u001b[0m\n",
       "        \u001b[1;35mChoice\u001b[0m\u001b[1m(\u001b[0m\n",
       "            \u001b[33mtitle\u001b[0m=\u001b[32m'Enter'\u001b[0m,\n",
       "            \u001b[33mdescription\u001b[0m=\u001b[32m'Enter the building - The whispers and metallic sounds suggest activity inside, possibly \u001b[0m\n",
       "\u001b[32mhelp or danger.  Choosing this path could lead to unexpected encounters.'\u001b[0m\n",
       "        \u001b[1m)\u001b[0m,\n",
       "        \u001b[1;35mChoice\u001b[0m\u001b[1m(\u001b[0m\n",
       "            \u001b[33mtitle\u001b[0m=\u001b[32m'Seek another path'\u001b[0m,\n",
       "            \u001b[33mdescription\u001b[0m=\u001b[32m'Find another path -  He could try searching for another route, avoiding the building.  \u001b[0m\n",
       "\u001b[32mThis might lead him to a different, potentially safer location, but he might miss an opportunity for help.'\u001b[0m\n",
       "        \u001b[1m)\u001b[0m,\n",
       "        \u001b[1;35mChoice\u001b[0m\u001b[1m(\u001b[0m\n",
       "            \u001b[33mtitle\u001b[0m=\u001b[32m'Try to communicate'\u001b[0m,\n",
       "            \u001b[33mdescription\u001b[0m=\u001b[32m'Try to communicate - The man shouts into the passage to see if someone is in there. This \u001b[0m\n",
       "\u001b[32mis a low risk but potentially high reward action. He may find help, but he might also attract unwanted attention.'\u001b[0m\n",
       "        \u001b[1m)\u001b[0m\n",
       "    \u001b[1m]\u001b[0m\n",
       "\u001b[1m)\u001b[0m\n"
      ]
     },
     "metadata": {},
     "output_type": "display_data"
    }
   ],
   "source": [
    "choice_2 = get_next_situation(resp.description, resp.title, choices, max_depth)\n",
    "print(choice_2)"
   ]
  },
  {
   "cell_type": "code",
   "execution_count": 110,
   "metadata": {},
   "outputs": [
    {
     "data": {
      "text/html": [
       "<pre style=\"white-space:pre;overflow-x:auto;line-height:normal;font-family:Menlo,'DejaVu Sans Mono',consolas,'Courier New',monospace\"><span style=\"font-weight: bold\">[</span>\n",
       "    <span style=\"color: #800080; text-decoration-color: #800080; font-weight: bold\">UserChoice</span><span style=\"font-weight: bold\">(</span>\n",
       "        <span style=\"color: #808000; text-decoration-color: #808000\">title</span>=<span style=\"color: #008000; text-decoration-color: #008000\">'Press Onward'</span>,\n",
       "        <span style=\"color: #808000; text-decoration-color: #808000\">description</span>=<span style=\"color: #008000; text-decoration-color: #008000\">'The man pushes through the debris, his boots crunching on broken glass and twisted metal.  He </span>\n",
       "<span style=\"color: #008000; text-decoration-color: #008000\">sees a flickering light in the distance, a beacon of hope in this desolate landscape. Will he risk venturing </span>\n",
       "<span style=\"color: #008000; text-decoration-color: #008000\">towards the unknown?. User chose to Press forward toward the light, hoping it signals safety or help. This path is </span>\n",
       "<span style=\"color: #008000; text-decoration-color: #008000\">fraught with unknown dangers, but the hope of rescue keeps him moving.'</span>\n",
       "    <span style=\"font-weight: bold\">)</span>,\n",
       "    <span style=\"color: #800080; text-decoration-color: #800080; font-weight: bold\">UserChoice</span><span style=\"font-weight: bold\">(</span>\n",
       "        <span style=\"color: #808000; text-decoration-color: #808000\">title</span>=<span style=\"color: #008000; text-decoration-color: #008000\">'Enter'</span>,\n",
       "        <span style=\"color: #808000; text-decoration-color: #808000\">description</span>=<span style=\"color: #008000; text-decoration-color: #008000\">'The flickering light leads him to an old, abandoned building.  The entrance is partially </span>\n",
       "<span style=\"color: #008000; text-decoration-color: #008000\">blocked by rubble, but a narrow passage is visible. Inside, he hears faint whispers and the metallic clang of </span>\n",
       "<span style=\"color: #008000; text-decoration-color: #008000\">something being worked on. Does he dare enter, or seek another path?. User chose to Enter the building - The </span>\n",
       "<span style=\"color: #008000; text-decoration-color: #008000\">whispers and metallic sounds suggest activity inside, possibly help or danger.  Choosing this path could lead to </span>\n",
       "<span style=\"color: #008000; text-decoration-color: #008000\">unexpected encounters.'</span>\n",
       "    <span style=\"font-weight: bold\">)</span>\n",
       "<span style=\"font-weight: bold\">]</span>\n",
       "</pre>\n"
      ],
      "text/plain": [
       "\u001b[1m[\u001b[0m\n",
       "    \u001b[1;35mUserChoice\u001b[0m\u001b[1m(\u001b[0m\n",
       "        \u001b[33mtitle\u001b[0m=\u001b[32m'Press Onward'\u001b[0m,\n",
       "        \u001b[33mdescription\u001b[0m=\u001b[32m'The man pushes through the debris, his boots crunching on broken glass and twisted metal.  He \u001b[0m\n",
       "\u001b[32msees a flickering light in the distance, a beacon of hope in this desolate landscape. Will he risk venturing \u001b[0m\n",
       "\u001b[32mtowards the unknown?. User chose to Press forward toward the light, hoping it signals safety or help. This path is \u001b[0m\n",
       "\u001b[32mfraught with unknown dangers, but the hope of rescue keeps him moving.'\u001b[0m\n",
       "    \u001b[1m)\u001b[0m,\n",
       "    \u001b[1;35mUserChoice\u001b[0m\u001b[1m(\u001b[0m\n",
       "        \u001b[33mtitle\u001b[0m=\u001b[32m'Enter'\u001b[0m,\n",
       "        \u001b[33mdescription\u001b[0m=\u001b[32m'The flickering light leads him to an old, abandoned building.  The entrance is partially \u001b[0m\n",
       "\u001b[32mblocked by rubble, but a narrow passage is visible. Inside, he hears faint whispers and the metallic clang of \u001b[0m\n",
       "\u001b[32msomething being worked on. Does he dare enter, or seek another path?. User chose to Enter the building - The \u001b[0m\n",
       "\u001b[32mwhispers and metallic sounds suggest activity inside, possibly help or danger.  Choosing this path could lead to \u001b[0m\n",
       "\u001b[32munexpected encounters.'\u001b[0m\n",
       "    \u001b[1m)\u001b[0m\n",
       "\u001b[1m]\u001b[0m\n"
      ]
     },
     "metadata": {},
     "output_type": "display_data"
    }
   ],
   "source": [
    "chosen_choice = choice_2.user_choices[0]\n",
    "choices.append(\n",
    "    UserChoice(\n",
    "        title=chosen_choice.title,\n",
    "        description=f\"\"\"\n",
    "        {choice_2.description}. User chose to {chosen_choice.description}\n",
    "        \"\"\".strip()\n",
    "    )\n",
    ")\n",
    "print(choices)"
   ]
  },
  {
   "cell_type": "code",
   "execution_count": 115,
   "metadata": {},
   "outputs": [
    {
     "data": {
      "text/html": [
       "<pre style=\"white-space:pre;overflow-x:auto;line-height:normal;font-family:Menlo,'DejaVu Sans Mono',consolas,'Courier New',monospace\">We chose Communicate\n",
       "</pre>\n"
      ],
      "text/plain": [
       "We chose Communicate\n"
      ]
     },
     "metadata": {},
     "output_type": "display_data"
    },
    {
     "data": {
      "text/html": [
       "<pre style=\"white-space:pre;overflow-x:auto;line-height:normal;font-family:Menlo,'DejaVu Sans Mono',consolas,'Courier New',monospace\"><span style=\"color: #800080; text-decoration-color: #800080; font-weight: bold\">Situation</span><span style=\"font-weight: bold\">(</span>\n",
       "    <span style=\"color: #808000; text-decoration-color: #808000\">is_terminal</span>=<span style=\"color: #00ff00; text-decoration-color: #00ff00; font-style: italic\">True</span>,\n",
       "    <span style=\"color: #808000; text-decoration-color: #808000\">title</span>=<span style=\"color: #008000; text-decoration-color: #008000\">'Wasteland Reborn'</span>,\n",
       "    <span style=\"color: #808000; text-decoration-color: #808000\">description</span>=<span style=\"color: #008000; text-decoration-color: #008000\">'The figures, surprisingly, are not hostile. They are survivors, scavenging and rebuilding. They </span>\n",
       "<span style=\"color: #008000; text-decoration-color: #008000\">welcome the man, offering him food and shelter. Over time, he becomes an integral part of their community, helping </span>\n",
       "<span style=\"color: #008000; text-decoration-color: #008000\">to rebuild and create a new life in the wasteland. Years later, the once desolate city shows signs of life, a </span>\n",
       "<span style=\"color: #008000; text-decoration-color: #008000\">testament to human resilience and the power of community.'</span>,\n",
       "    <span style=\"color: #808000; text-decoration-color: #808000\">image</span>=<span style=\"color: #008000; text-decoration-color: #008000\">'Retro Pixel, A pixelated image of a group of survivors working together to rebuild a city in a </span>\n",
       "<span style=\"color: #008000; text-decoration-color: #008000\">wasteland. The city is made of salvaged metal and other materials. The survivors are smiling and working </span>\n",
       "<span style=\"color: #008000; text-decoration-color: #008000\">together.'</span>,\n",
       "    <span style=\"color: #808000; text-decoration-color: #808000\">user_choices</span>=<span style=\"font-weight: bold\">[</span>\n",
       "        <span style=\"color: #800080; text-decoration-color: #800080; font-weight: bold\">Choice</span><span style=\"font-weight: bold\">(</span><span style=\"color: #808000; text-decoration-color: #808000\">title</span>=<span style=\"color: #008000; text-decoration-color: #008000\">''</span>, <span style=\"color: #808000; text-decoration-color: #808000\">description</span>=<span style=\"color: #008000; text-decoration-color: #008000\">''</span><span style=\"font-weight: bold\">)</span>,\n",
       "        <span style=\"color: #800080; text-decoration-color: #800080; font-weight: bold\">Choice</span><span style=\"font-weight: bold\">(</span><span style=\"color: #808000; text-decoration-color: #808000\">title</span>=<span style=\"color: #008000; text-decoration-color: #008000\">''</span>, <span style=\"color: #808000; text-decoration-color: #808000\">description</span>=<span style=\"color: #008000; text-decoration-color: #008000\">''</span><span style=\"font-weight: bold\">)</span>,\n",
       "        <span style=\"color: #800080; text-decoration-color: #800080; font-weight: bold\">Choice</span><span style=\"font-weight: bold\">(</span><span style=\"color: #808000; text-decoration-color: #808000\">title</span>=<span style=\"color: #008000; text-decoration-color: #008000\">''</span>, <span style=\"color: #808000; text-decoration-color: #808000\">description</span>=<span style=\"color: #008000; text-decoration-color: #008000\">''</span><span style=\"font-weight: bold\">)</span>\n",
       "    <span style=\"font-weight: bold\">]</span>\n",
       "<span style=\"font-weight: bold\">)</span>\n",
       "</pre>\n"
      ],
      "text/plain": [
       "\u001b[1;35mSituation\u001b[0m\u001b[1m(\u001b[0m\n",
       "    \u001b[33mis_terminal\u001b[0m=\u001b[3;92mTrue\u001b[0m,\n",
       "    \u001b[33mtitle\u001b[0m=\u001b[32m'Wasteland Reborn'\u001b[0m,\n",
       "    \u001b[33mdescription\u001b[0m=\u001b[32m'The figures, surprisingly, are not hostile. They are survivors, scavenging and rebuilding. They \u001b[0m\n",
       "\u001b[32mwelcome the man, offering him food and shelter. Over time, he becomes an integral part of their community, helping \u001b[0m\n",
       "\u001b[32mto rebuild and create a new life in the wasteland. Years later, the once desolate city shows signs of life, a \u001b[0m\n",
       "\u001b[32mtestament to human resilience and the power of community.'\u001b[0m,\n",
       "    \u001b[33mimage\u001b[0m=\u001b[32m'Retro Pixel, A pixelated image of a group of survivors working together to rebuild a city in a \u001b[0m\n",
       "\u001b[32mwasteland. The city is made of salvaged metal and other materials. The survivors are smiling and working \u001b[0m\n",
       "\u001b[32mtogether.'\u001b[0m,\n",
       "    \u001b[33muser_choices\u001b[0m=\u001b[1m[\u001b[0m\n",
       "        \u001b[1;35mChoice\u001b[0m\u001b[1m(\u001b[0m\u001b[33mtitle\u001b[0m=\u001b[32m''\u001b[0m, \u001b[33mdescription\u001b[0m=\u001b[32m''\u001b[0m\u001b[1m)\u001b[0m,\n",
       "        \u001b[1;35mChoice\u001b[0m\u001b[1m(\u001b[0m\u001b[33mtitle\u001b[0m=\u001b[32m''\u001b[0m, \u001b[33mdescription\u001b[0m=\u001b[32m''\u001b[0m\u001b[1m)\u001b[0m,\n",
       "        \u001b[1;35mChoice\u001b[0m\u001b[1m(\u001b[0m\u001b[33mtitle\u001b[0m=\u001b[32m''\u001b[0m, \u001b[33mdescription\u001b[0m=\u001b[32m''\u001b[0m\u001b[1m)\u001b[0m\n",
       "    \u001b[1m]\u001b[0m\n",
       "\u001b[1m)\u001b[0m\n"
      ]
     },
     "metadata": {},
     "output_type": "display_data"
    }
   ],
   "source": [
    "print(\"We chose\", choices[-1].title)\n",
    "choice_3 = get_next_situation(resp.description, resp.title, choices, max_depth)\n",
    "print(choice_3)\n"
   ]
  }
 ],
 "metadata": {
  "kernelspec": {
   "display_name": ".venv",
   "language": "python",
   "name": "python3"
  },
  "language_info": {
   "codemirror_mode": {
    "name": "ipython",
    "version": 3
   },
   "file_extension": ".py",
   "mimetype": "text/x-python",
   "name": "python",
   "nbconvert_exporter": "python",
   "pygments_lexer": "ipython3",
   "version": "3.12.7"
  }
 },
 "nbformat": 4,
 "nbformat_minor": 2
}
