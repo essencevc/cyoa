{
 "cells": [
  {
   "cell_type": "code",
   "execution_count": 1,
   "metadata": {},
   "outputs": [],
   "source": [
    "%load_ext autoreload\n",
    "%autoreload 2"
   ]
  },
  {
   "cell_type": "code",
   "execution_count": 160,
   "metadata": {},
   "outputs": [
    {
     "data": {
      "text/html": [
       "<pre style=\"white-space:pre;overflow-x:auto;line-height:normal;font-family:Menlo,'DejaVu Sans Mono',consolas,'Courier New',monospace\"><span style=\"color: #800080; text-decoration-color: #800080; font-weight: bold\">StoryOutline</span><span style=\"font-weight: bold\">(</span>\n",
       "    <span style=\"color: #808000; text-decoration-color: #808000\">title</span>=<span style=\"color: #008000; text-decoration-color: #008000\">'Wasteland Wanderer: Lost Echoes'</span>,\n",
       "    <span style=\"color: #808000; text-decoration-color: #808000\">description</span>=<span style=\"color: #008000; text-decoration-color: #008000\">'John wakes up disoriented in a desolate, ruined city. The world is ravaged, with skeletal </span>\n",
       "<span style=\"color: #008000; text-decoration-color: #008000\">buildings piercing a dust-filled sky. He has no memory of how he got here or who he is. Survival in this hostile </span>\n",
       "<span style=\"color: #008000; text-decoration-color: #008000\">wasteland is his only focus, as he struggles to uncover the secrets of his past, hoping to find what remains.'</span>,\n",
       "    <span style=\"color: #808000; text-decoration-color: #808000\">banner_image_description</span>=<span style=\"color: #008000; text-decoration-color: #008000\">'A pixel art image in muted browns and grays, depicting a lone figure in tattered </span>\n",
       "<span style=\"color: #008000; text-decoration-color: #008000\">clothing standing on a broken highway, with skeletal buildings silhouetted against a hazy orange sky.'</span>\n",
       "<span style=\"font-weight: bold\">)</span>\n",
       "</pre>\n"
      ],
      "text/plain": [
       "\u001b[1;35mStoryOutline\u001b[0m\u001b[1m(\u001b[0m\n",
       "    \u001b[33mtitle\u001b[0m=\u001b[32m'Wasteland Wanderer: Lost Echoes'\u001b[0m,\n",
       "    \u001b[33mdescription\u001b[0m=\u001b[32m'John wakes up disoriented in a desolate, ruined city. The world is ravaged, with skeletal \u001b[0m\n",
       "\u001b[32mbuildings piercing a dust-filled sky. He has no memory of how he got here or who he is. Survival in this hostile \u001b[0m\n",
       "\u001b[32mwasteland is his only focus, as he struggles to uncover the secrets of his past, hoping to find what remains.'\u001b[0m,\n",
       "    \u001b[33mbanner_image_description\u001b[0m=\u001b[32m'A pixel art image in muted browns and grays, depicting a lone figure in tattered \u001b[0m\n",
       "\u001b[32mclothing standing on a broken highway, with skeletal buildings silhouetted against a hazy orange sky.'\u001b[0m\n",
       "\u001b[1m)\u001b[0m\n"
      ]
     },
     "metadata": {},
     "output_type": "display_data"
    }
   ],
   "source": [
    "import instructor\n",
    "import google.generativeai as genai\n",
    "from pydantic import BaseModel\n",
    "from rich import print\n",
    "\n",
    "client = instructor.from_gemini(\n",
    "    genai.GenerativeModel(\"gemini-2.0-flash-exp\"), mode=instructor.Mode.GEMINI_JSON\n",
    ")\n",
    "\n",
    "\n",
    "class StoryOutline(BaseModel):\n",
    "    title: str\n",
    "    description: str\n",
    "    banner_image_description: str\n",
    "\n",
    "\n",
    "user_prompt = (\n",
    "    \"write me a story about a man who finds himself in a post apocalyptic world\"\n",
    ")\n",
    "\n",
    "\n",
    "resp = client.chat.completions.create(\n",
    "    response_model=StoryOutline,\n",
    "    messages=[\n",
    "        {\n",
    "            \"role\": \"system\",\n",
    "            \"content\": \"\"\"\n",
    "Here is a prompt provided by a user who wants to play an adventure game.\n",
    "\n",
    "<prompt>\n",
    "{{ prompt }}\n",
    "</prompt>\n",
    "\n",
    "Read the prompt carefully, identify specific details and elements and then generate the following\n",
    "\n",
    "- A title for the story that's between 3-6 words\n",
    "- A description for the story that's between 3-5 sentences. In this description, you must introduce the main character and set the scene. Make sure to mention the main character's name and what's at stake for them here in this existing situation implicitly.\n",
    "- A short 1 sentence  description for a banner image . This should be a description of a pixel art image that's suitable for the story as cover art. Be specific about the colors, style of the image, individual components of the image and the background.\n",
    "            \"\"\",\n",
    "        }\n",
    "    ],\n",
    "    context={\"prompt\": user_prompt},\n",
    ")\n",
    "\n",
    "print(resp)"
   ]
  },
  {
   "cell_type": "code",
   "execution_count": 188,
   "metadata": {},
   "outputs": [
    {
     "data": {
      "text/html": [
       "<pre style=\"white-space:pre;overflow-x:auto;line-height:normal;font-family:Menlo,'DejaVu Sans Mono',consolas,'Courier New',monospace\"><span style=\"color: #800080; text-decoration-color: #800080; font-weight: bold\">StoryNode</span><span style=\"font-weight: bold\">(</span>\n",
       "    <span style=\"color: #808000; text-decoration-color: #808000\">title</span>=<span style=\"color: #008000; text-decoration-color: #008000\">'The Library Vault'</span>,\n",
       "    <span style=\"color: #808000; text-decoration-color: #808000\">story_description</span>=<span style=\"color: #008000; text-decoration-color: #008000\">\"John scavenges through the ruins, each crumbling wall and broken window a reminder of the </span>\n",
       "<span style=\"color: #008000; text-decoration-color: #008000\">world's end. He finds a tattered map hinting at a hidden vault beneath the old city library. A sense of hope sparks</span>\n",
       "<span style=\"color: #008000; text-decoration-color: #008000\">within him, a beacon in the dimness of his amnesia, as he decides to follow the map's directions. He steps into the</span>\n",
       "<span style=\"color: #008000; text-decoration-color: #008000\">library with the hope that this vault will hold the key to his past. The air grows heavy, the silence is thick, and</span>\n",
       "<span style=\"color: #008000; text-decoration-color: #008000\">a strange symbol is etched on the vault door.\"</span>,\n",
       "    <span style=\"color: #808000; text-decoration-color: #808000\">banner_image_description</span>=<span style=\"color: #008000; text-decoration-color: #008000\">'A pixel art image of a desolate cityscape at sunset with a lone figure in the </span>\n",
       "<span style=\"color: #008000; text-decoration-color: #008000\">foreground, rendered in 8-bit style.'</span>,\n",
       "    <span style=\"color: #808000; text-decoration-color: #808000\">user_choices</span>=<span style=\"font-weight: bold\">[</span><span style=\"color: #800080; text-decoration-color: #800080; font-weight: bold\">UserChoice</span><span style=\"font-weight: bold\">(</span><span style=\"color: #808000; text-decoration-color: #808000\">choice_title</span>=<span style=\"color: #008000; text-decoration-color: #008000\">'Examine the Symbol'</span><span style=\"font-weight: bold\">)</span>, <span style=\"color: #800080; text-decoration-color: #800080; font-weight: bold\">UserChoice</span><span style=\"font-weight: bold\">(</span><span style=\"color: #808000; text-decoration-color: #808000\">choice_title</span>=<span style=\"color: #008000; text-decoration-color: #008000\">'Force the Vault Door'</span><span style=\"font-weight: bold\">)]</span>\n",
       "<span style=\"font-weight: bold\">)</span>\n",
       "</pre>\n"
      ],
      "text/plain": [
       "\u001b[1;35mStoryNode\u001b[0m\u001b[1m(\u001b[0m\n",
       "    \u001b[33mtitle\u001b[0m=\u001b[32m'The Library Vault'\u001b[0m,\n",
       "    \u001b[33mstory_description\u001b[0m=\u001b[32m\"John\u001b[0m\u001b[32m scavenges through the ruins, each crumbling wall and broken window a reminder of the \u001b[0m\n",
       "\u001b[32mworld's end. He finds a tattered map hinting at a hidden vault beneath the old city library. A sense of hope sparks\u001b[0m\n",
       "\u001b[32mwithin him, a beacon in the dimness of his amnesia, as he decides to follow the map's directions. He steps into the\u001b[0m\n",
       "\u001b[32mlibrary with the hope that this vault will hold the key to his past. The air grows heavy, the silence is thick, and\u001b[0m\n",
       "\u001b[32ma strange symbol is etched on the vault door.\"\u001b[0m,\n",
       "    \u001b[33mbanner_image_description\u001b[0m=\u001b[32m'A pixel art image of a desolate cityscape at sunset with a lone figure in the \u001b[0m\n",
       "\u001b[32mforeground, rendered in 8-bit style.'\u001b[0m,\n",
       "    \u001b[33muser_choices\u001b[0m=\u001b[1m[\u001b[0m\u001b[1;35mUserChoice\u001b[0m\u001b[1m(\u001b[0m\u001b[33mchoice_title\u001b[0m=\u001b[32m'Examine the Symbol'\u001b[0m\u001b[1m)\u001b[0m, \u001b[1;35mUserChoice\u001b[0m\u001b[1m(\u001b[0m\u001b[33mchoice_title\u001b[0m=\u001b[32m'Force the Vault Door'\u001b[0m\u001b[1m)\u001b[0m\u001b[1m]\u001b[0m\n",
       "\u001b[1m)\u001b[0m\n"
      ]
     },
     "metadata": {},
     "output_type": "display_data"
    }
   ],
   "source": [
    "from pydantic import BaseModel, field_validator, ValidationInfo\n",
    "\n",
    "\n",
    "class UserChoice(BaseModel):\n",
    "    choice_title: str\n",
    "\n",
    "\n",
    "class StoryNode(BaseModel):\n",
    "    title: str\n",
    "    story_description: str\n",
    "    banner_image_description: str\n",
    "    user_choices: list[UserChoice]\n",
    "\n",
    "    @field_validator(\"user_choices\")\n",
    "    def validate_user_choices(cls, v, info: ValidationInfo):\n",
    "        context = info.context\n",
    "        if len(v) != 2 and context[\"remaining_turns\"] > 0:\n",
    "            raise ValueError(\"Only provide two choices to the user\")\n",
    "\n",
    "        if len(v) == 0 and context[\"remaining_turns\"] != 0:\n",
    "            raise ValueError(\n",
    "                \"You must provide two choices for the user to advance the story\"\n",
    "            )\n",
    "\n",
    "        return v\n",
    "\n",
    "\n",
    "async def initialize_story(\n",
    "    client, story_title: str, story_description: str, remaining_turns: int\n",
    ") -> StoryNode:\n",
    "    return await client.chat.completions.create(\n",
    "        response_model=StoryNode,\n",
    "        messages=[\n",
    "            {\n",
    "                \"role\": \"system\",\n",
    "                \"content\": \"\"\"\n",
    "Here's a story outline that we've generated previously based on a user prompt\n",
    "\n",
    "<outline>\n",
    "Title: {{ story_title }}\n",
    "Description: {{ story_description }}\n",
    "</outline>\n",
    "\n",
    "Based on the outline above, generate the following:\n",
    "\n",
    "- A description and title of a new chapter in the story that picks off where the description below ends. This should be a continuation of the story above and between 4-6 sentences.\n",
    "- Two choices that the user can make at that point in time to advance the story. These titles should be between 3-6 words.\n",
    "- A banner image description of about 15 words that's suitable for the story as cover art. This should be in a pixel art and retro 8-bit style. Mention specific details of the image in the description.\n",
    "            \"\"\",\n",
    "            }\n",
    "        ],\n",
    "        context={\n",
    "            \"story_title\": story_title,\n",
    "            \"story_description\": story_description,\n",
    "            \"remaining_turns\": remaining_turns,\n",
    "        },\n",
    "    )\n",
    "\n",
    "\n",
    "client = instructor.from_gemini(\n",
    "    genai.GenerativeModel(\"gemini-2.0-flash-exp\"), use_async=True\n",
    ")\n",
    "choice1 = await initialize_story(client, resp.title, resp.description, 2)\n",
    "print(choice1)"
   ]
  },
  {
   "cell_type": "code",
   "execution_count": 187,
   "metadata": {},
   "outputs": [
    {
     "data": {
      "text/html": [
       "<pre style=\"white-space:pre;overflow-x:auto;line-height:normal;font-family:Menlo,'DejaVu Sans Mono',consolas,'Courier New',monospace\">Generating story node with <span style=\"color: #008080; text-decoration-color: #008080; font-weight: bold\">2</span> turns remaining\n",
       "</pre>\n"
      ],
      "text/plain": [
       "Generating story node with \u001b[1;36m2\u001b[0m turns remaining\n"
      ]
     },
     "metadata": {},
     "output_type": "display_data"
    },
    {
     "data": {
      "text/html": [
       "<pre style=\"white-space:pre;overflow-x:auto;line-height:normal;font-family:Menlo,'DejaVu Sans Mono',consolas,'Courier New',monospace\"><span style=\"color: #800080; text-decoration-color: #800080; font-weight: bold\">StoryNode</span><span style=\"font-weight: bold\">(</span>\n",
       "    <span style=\"color: #808000; text-decoration-color: #808000\">title</span>=<span style=\"color: #008000; text-decoration-color: #008000\">'Echoes of the Past'</span>,\n",
       "    <span style=\"color: #808000; text-decoration-color: #808000\">story_description</span>=<span style=\"color: #008000; text-decoration-color: #008000\">'Dust hangs heavy in the air as John studies the mural. Its faded colors depict a city much </span>\n",
       "<span style=\"color: #008000; text-decoration-color: #008000\">like this one, but thriving. The central image is a tower reaching to the sky, with a symbol at its peak that looks</span>\n",
       "<span style=\"color: #008000; text-decoration-color: #008000\">familiar somehow. A low growl echoes from the shadows, and a pair of glowing red eyes pierce the gloom.'</span>,\n",
       "    <span style=\"color: #808000; text-decoration-color: #808000\">banner_image_description</span>=<span style=\"color: #008000; text-decoration-color: #008000\">'A pixel art banner of a crumbling city with a lone figure, John, in the foreground, </span>\n",
       "<span style=\"color: #008000; text-decoration-color: #008000\">looking at an old mural.'</span>,\n",
       "    <span style=\"color: #808000; text-decoration-color: #808000\">user_choices</span>=<span style=\"font-weight: bold\">[</span><span style=\"color: #800080; text-decoration-color: #800080; font-weight: bold\">UserChoice</span><span style=\"font-weight: bold\">(</span><span style=\"color: #808000; text-decoration-color: #808000\">choice_title</span>=<span style=\"color: #008000; text-decoration-color: #008000\">'Approach the Eyes'</span><span style=\"font-weight: bold\">)</span>, <span style=\"color: #800080; text-decoration-color: #800080; font-weight: bold\">UserChoice</span><span style=\"font-weight: bold\">(</span><span style=\"color: #808000; text-decoration-color: #808000\">choice_title</span>=<span style=\"color: #008000; text-decoration-color: #008000\">'Examine the Symbol'</span><span style=\"font-weight: bold\">)]</span>\n",
       "<span style=\"font-weight: bold\">)</span>\n",
       "</pre>\n"
      ],
      "text/plain": [
       "\u001b[1;35mStoryNode\u001b[0m\u001b[1m(\u001b[0m\n",
       "    \u001b[33mtitle\u001b[0m=\u001b[32m'Echoes of the Past'\u001b[0m,\n",
       "    \u001b[33mstory_description\u001b[0m=\u001b[32m'Dust hangs heavy in the air as John studies the mural. Its faded colors depict a city much \u001b[0m\n",
       "\u001b[32mlike this one, but thriving. The central image is a tower reaching to the sky, with a symbol at its peak that looks\u001b[0m\n",
       "\u001b[32mfamiliar somehow. A low growl echoes from the shadows, and a pair of glowing red eyes pierce the gloom.'\u001b[0m,\n",
       "    \u001b[33mbanner_image_description\u001b[0m=\u001b[32m'A pixel art banner of a crumbling city with a lone figure, John, in the foreground, \u001b[0m\n",
       "\u001b[32mlooking at an old mural.'\u001b[0m,\n",
       "    \u001b[33muser_choices\u001b[0m=\u001b[1m[\u001b[0m\u001b[1;35mUserChoice\u001b[0m\u001b[1m(\u001b[0m\u001b[33mchoice_title\u001b[0m=\u001b[32m'Approach the Eyes'\u001b[0m\u001b[1m)\u001b[0m, \u001b[1;35mUserChoice\u001b[0m\u001b[1m(\u001b[0m\u001b[33mchoice_title\u001b[0m=\u001b[32m'Examine the Symbol'\u001b[0m\u001b[1m)\u001b[0m\u001b[1m]\u001b[0m\n",
       "\u001b[1m)\u001b[0m\n"
      ]
     },
     "metadata": {},
     "output_type": "display_data"
    }
   ],
   "source": [
    "async def continue_story(\n",
    "    client, story_title: str, story_description: str, previous_choices: list[dict]\n",
    ") -> StoryNode:\n",
    "    remaining_turns = 3 - len(previous_choices)\n",
    "    print(f\"Generating story node with {remaining_turns} turns remaining\")\n",
    "    return await client.chat.completions.create(\n",
    "        response_model=StoryNode,\n",
    "        messages=[\n",
    "            {\n",
    "                \"role\": \"system\",\n",
    "                \"content\": \"\"\"\n",
    "Here's a story outline that we've generated previously based on a user prompt\n",
    "\n",
    "<outline>\n",
    "Title: {{ story_title }}\n",
    "Description: {{ story_description }}\n",
    "</outline>\n",
    "\n",
    "Based on the outline above, generate the following:\n",
    "\n",
    "- A description and title of a new chapter in the story that picks off where the description below ends. This should be a continuation of the story above and between 3-5 sentences.\n",
    "- Two choices that the user can make at that point in time to advance the story. These titles should be between 3-6 words. Make sure to reference specific elements mentioned in the generated description of the story chapter.\n",
    "- A banner image description of about 15 words that's suitable for the story as cover art. This should be in a pixel art and retro 8-bit style. Mention specific details of the image in the description.\n",
    "\n",
    "{% if previous_choices | length >= 1 %}\n",
    "Here are the previous choices made by the main character leading up to this point in the story. Read them carefully and make sure to reference specific elements mentioned in the generated description of the new story chapter.\n",
    "{% endif %}\n",
    "\n",
    "<previous choices>\n",
    "    {% for choice in previous_choices %}\n",
    "    <choice {{loop.index}}>\n",
    "    Choice Context: {{ choice.context }}\n",
    "    Options: {{ choice.options }}\n",
    "    User Chose: {{ choice.user_choice }}\n",
    "    </choice>\n",
    "{% endfor %}\n",
    "<previous choices>\n",
    "            \"\"\",\n",
    "            }\n",
    "        ],\n",
    "        context={\n",
    "            \"story_title\": story_title,\n",
    "            \"story_description\": story_description,\n",
    "            \"previous_choices\": previous_choices,\n",
    "            \"remaining_turns\": remaining_turns,\n",
    "        },\n",
    "    )\n",
    "\n",
    "\n",
    "client = instructor.from_gemini(\n",
    "    genai.GenerativeModel(\"gemini-2.0-flash-exp\"), use_async=True\n",
    ")\n",
    "choice2 = await continue_story(\n",
    "    client,\n",
    "    resp.title,\n",
    "    resp.description,\n",
    "    [\n",
    "        {\n",
    "            \"title\": choice1.title,\n",
    "            \"description\": choice1.story_description,\n",
    "            \"options\": [choice.choice_title for choice in choice1.user_choices],\n",
    "            \"user_choice\": choice1.user_choices[0].choice_title,\n",
    "        }\n",
    "    ],\n",
    ")\n",
    "print(choice2)"
   ]
  },
  {
   "cell_type": "code",
   "execution_count": 189,
   "metadata": {},
   "outputs": [
    {
     "data": {
      "text/html": [
       "<pre style=\"white-space:pre;overflow-x:auto;line-height:normal;font-family:Menlo,'DejaVu Sans Mono',consolas,'Courier New',monospace\">Generating story node with <span style=\"color: #008080; text-decoration-color: #008080; font-weight: bold\">1</span> turns remaining\n",
       "</pre>\n"
      ],
      "text/plain": [
       "Generating story node with \u001b[1;36m1\u001b[0m turns remaining\n"
      ]
     },
     "metadata": {},
     "output_type": "display_data"
    },
    {
     "data": {
      "text/html": [
       "<pre style=\"white-space:pre;overflow-x:auto;line-height:normal;font-family:Menlo,'DejaVu Sans Mono',consolas,'Courier New',monospace\"><span style=\"color: #800080; text-decoration-color: #800080; font-weight: bold\">StoryNode</span><span style=\"font-weight: bold\">(</span>\n",
       "    <span style=\"color: #808000; text-decoration-color: #808000\">title</span>=<span style=\"color: #008000; text-decoration-color: #008000\">'Whispers of the Past'</span>,\n",
       "    <span style=\"color: #808000; text-decoration-color: #808000\">story_description</span>=<span style=\"color: #008000; text-decoration-color: #008000\">\"John cautiously approaches the glowing eyes, and as he gets closer, a voice echoes in his </span>\n",
       "<span style=\"color: #008000; text-decoration-color: #008000\">mind. It's a fragmented memory, a woman's voice calling out a name, not his own. The voice speaks of a hidden </span>\n",
       "<span style=\"color: #008000; text-decoration-color: #008000\">vault, deeper within the city ruins, where the secrets of the past are stored. The eyes fade away, leaving only a </span>\n",
       "<span style=\"color: #008000; text-decoration-color: #008000\">faint shimmer where they were, and John is left with more questions than answers, and an inkling of hope that his </span>\n",
       "<span style=\"color: #008000; text-decoration-color: #008000\">true identity might be locked within the vault. He must now decide how to get there, in hopes that he might find </span>\n",
       "<span style=\"color: #008000; text-decoration-color: #008000\">the truth he seeks.\"</span>,\n",
       "    <span style=\"color: #808000; text-decoration-color: #808000\">banner_image_description</span>=<span style=\"color: #008000; text-decoration-color: #008000\">'A pixel art banner image of a desolate cityscape at dusk. Skeletal buildings and a </span>\n",
       "<span style=\"color: #008000; text-decoration-color: #008000\">hazy sky. A figure with glowing eyes stands in the foreground.'</span>,\n",
       "    <span style=\"color: #808000; text-decoration-color: #808000\">user_choices</span>=<span style=\"font-weight: bold\">[</span>\n",
       "        <span style=\"color: #800080; text-decoration-color: #800080; font-weight: bold\">UserChoice</span><span style=\"font-weight: bold\">(</span><span style=\"color: #808000; text-decoration-color: #808000\">choice_title</span>=<span style=\"color: #008000; text-decoration-color: #008000\">'Search for the Vault'</span><span style=\"font-weight: bold\">)</span>,\n",
       "        <span style=\"color: #800080; text-decoration-color: #800080; font-weight: bold\">UserChoice</span><span style=\"font-weight: bold\">(</span><span style=\"color: #808000; text-decoration-color: #808000\">choice_title</span>=<span style=\"color: #008000; text-decoration-color: #008000\">'Follow the Fading Shimmer'</span><span style=\"font-weight: bold\">)</span>\n",
       "    <span style=\"font-weight: bold\">]</span>\n",
       "<span style=\"font-weight: bold\">)</span>\n",
       "</pre>\n"
      ],
      "text/plain": [
       "\u001b[1;35mStoryNode\u001b[0m\u001b[1m(\u001b[0m\n",
       "    \u001b[33mtitle\u001b[0m=\u001b[32m'Whispers of the Past'\u001b[0m,\n",
       "    \u001b[33mstory_description\u001b[0m=\u001b[32m\"John\u001b[0m\u001b[32m cautiously approaches the glowing eyes, and as he gets closer, a voice echoes in his \u001b[0m\n",
       "\u001b[32mmind. It's a fragmented memory, a woman's voice calling out a name, not his own. The voice speaks of a hidden \u001b[0m\n",
       "\u001b[32mvault, deeper within the city ruins, where the secrets of the past are stored. The eyes fade away, leaving only a \u001b[0m\n",
       "\u001b[32mfaint shimmer where they were, and John is left with more questions than answers, and an inkling of hope that his \u001b[0m\n",
       "\u001b[32mtrue identity might be locked within the vault. He must now decide how to get there, in hopes that he might find \u001b[0m\n",
       "\u001b[32mthe truth he seeks.\"\u001b[0m,\n",
       "    \u001b[33mbanner_image_description\u001b[0m=\u001b[32m'A pixel art banner image of a desolate cityscape at dusk. Skeletal buildings and a \u001b[0m\n",
       "\u001b[32mhazy sky. A figure with glowing eyes stands in the foreground.'\u001b[0m,\n",
       "    \u001b[33muser_choices\u001b[0m=\u001b[1m[\u001b[0m\n",
       "        \u001b[1;35mUserChoice\u001b[0m\u001b[1m(\u001b[0m\u001b[33mchoice_title\u001b[0m=\u001b[32m'Search for the Vault'\u001b[0m\u001b[1m)\u001b[0m,\n",
       "        \u001b[1;35mUserChoice\u001b[0m\u001b[1m(\u001b[0m\u001b[33mchoice_title\u001b[0m=\u001b[32m'Follow the Fading Shimmer'\u001b[0m\u001b[1m)\u001b[0m\n",
       "    \u001b[1m]\u001b[0m\n",
       "\u001b[1m)\u001b[0m\n"
      ]
     },
     "metadata": {},
     "output_type": "display_data"
    }
   ],
   "source": [
    "choice3 = await continue_story(\n",
    "    client,\n",
    "    resp.title,\n",
    "    resp.description,\n",
    "    [\n",
    "        {\n",
    "            \"title\": choice1.title,\n",
    "            \"description\": choice1.story_description,\n",
    "            \"options\": [choice.choice_title for choice in choice1.user_choices],\n",
    "            \"user_choice\": choice1.user_choices[0].choice_title,\n",
    "        },\n",
    "        {\n",
    "            \"title\": choice2.title,\n",
    "            \"description\": choice2.story_description,\n",
    "            \"options\": [choice.choice_title for choice in choice2.user_choices],\n",
    "            \"user_choice\": choice2.user_choices[0].choice_title,\n",
    "        },\n",
    "    ],\n",
    ")\n",
    "print(choice3)"
   ]
  },
  {
   "cell_type": "code",
   "execution_count": 190,
   "metadata": {},
   "outputs": [
    {
     "data": {
      "text/html": [
       "<pre style=\"white-space:pre;overflow-x:auto;line-height:normal;font-family:Menlo,'DejaVu Sans Mono',consolas,'Courier New',monospace\"><span style=\"color: #800080; text-decoration-color: #800080; font-weight: bold\">StoryNode</span><span style=\"font-weight: bold\">(</span>\n",
       "    <span style=\"color: #808000; text-decoration-color: #808000\">title</span>=<span style=\"color: #008000; text-decoration-color: #008000\">\"The Vault's Echo\"</span>,\n",
       "    <span style=\"color: #808000; text-decoration-color: #808000\">story_description</span>=<span style=\"color: #008000; text-decoration-color: #008000\">\"John's journey through the wasteland culminates at the vault, a place hinted at by the </span>\n",
       "<span style=\"color: #008000; text-decoration-color: #008000\">symbols he encountered. Inside, fragments of his past life return, triggered by a hidden databank. He discovers he </span>\n",
       "<span style=\"color: #008000; text-decoration-color: #008000\">was part of a project that led to the world's desolation. Accepting his identity, John walks out of the vault, </span>\n",
       "<span style=\"color: #008000; text-decoration-color: #008000\">carrying the weight of his past, his path ahead still uncertain but filled with purpose.\"</span>,\n",
       "    <span style=\"color: #808000; text-decoration-color: #808000\">banner_image_description</span>=<span style=\"color: #008000; text-decoration-color: #008000\">'A lone wanderer stands before a massive vault door, pixelated and metallic, under a </span>\n",
       "<span style=\"color: #008000; text-decoration-color: #008000\">sky filled with dust clouds.'</span>,\n",
       "    <span style=\"color: #808000; text-decoration-color: #808000\">user_choices</span>=<span style=\"font-weight: bold\">[]</span>\n",
       "<span style=\"font-weight: bold\">)</span>\n",
       "</pre>\n"
      ],
      "text/plain": [
       "\u001b[1;35mStoryNode\u001b[0m\u001b[1m(\u001b[0m\n",
       "    \u001b[33mtitle\u001b[0m=\u001b[32m\"The\u001b[0m\u001b[32m Vault's Echo\"\u001b[0m,\n",
       "    \u001b[33mstory_description\u001b[0m=\u001b[32m\"John\u001b[0m\u001b[32m's journey through the wasteland culminates at the vault, a place hinted at by the \u001b[0m\n",
       "\u001b[32msymbols he encountered. Inside, fragments of his past life return, triggered by a hidden databank. He discovers he \u001b[0m\n",
       "\u001b[32mwas part of a project that led to the world's desolation. Accepting his identity, John walks out of the vault, \u001b[0m\n",
       "\u001b[32mcarrying the weight of his past, his path ahead still uncertain but filled with purpose.\"\u001b[0m,\n",
       "    \u001b[33mbanner_image_description\u001b[0m=\u001b[32m'A lone wanderer stands before a massive vault door, pixelated and metallic, under a \u001b[0m\n",
       "\u001b[32msky filled with dust clouds.'\u001b[0m,\n",
       "    \u001b[33muser_choices\u001b[0m=\u001b[1m[\u001b[0m\u001b[1m]\u001b[0m\n",
       "\u001b[1m)\u001b[0m\n"
      ]
     },
     "metadata": {},
     "output_type": "display_data"
    }
   ],
   "source": [
    "\n",
    "async def end_story(\n",
    "    client, story_title: str, story_description: str, prior_choices: list[dict]\n",
    ") -> StoryNode:\n",
    "    return await client.chat.completions.create(\n",
    "        response_model=StoryNode,\n",
    "        messages=[\n",
    "            {\n",
    "                \"role\": \"system\",\n",
    "                \"content\": \"\"\"\n",
    "Here's a story outline that we've generated previously based on a user prompt\n",
    "\n",
    "<outline>\n",
    "Title: {{ story_title }}\n",
    "Description: {{ story_description }}\n",
    "</outline>\n",
    "\n",
    "Here are the previous choices made by the main character leading up to this point in the story. Read them carefully and make sure to reference specific elements mentioned in your generated description of the story ending.\n",
    "\n",
    "<previous choices>\n",
    "    {% for choice in previous_choices %}\n",
    "    <choice {{loop.index}}>\n",
    "    Choice Context: {{ choice.context }}\n",
    "    Choice Options: {{ choice.options }}\n",
    "    User Chose: {{ choice.user_choice }}\n",
    "    </choice>\n",
    "{% endfor %}\n",
    "<previous choices>\n",
    "\n",
    "Based on the outline above, generate the following:\n",
    "\n",
    "- A description of the final chapter of the story that's between 3-5 sentences. This should be a conclusion of the story and tie up all loose ends.\n",
    "- There should be no choices for the user to make at this point in the story.\n",
    "- A banner image description of about 15 words that's suitable for the story as cover art. This should be in a pixel art and retro 8-bit style. Mention specific details of the image in the description.\n",
    "            \"\"\",\n",
    "            }\n",
    "        ],\n",
    "        context={\n",
    "            \"story_title\": story_title,\n",
    "            \"story_description\": story_description,\n",
    "            \"remaining_turns\": 0,\n",
    "            \"previous_choices\": prior_choices,\n",
    "        },\n",
    "    )\n",
    "\n",
    "end_story = await end_story(client, resp.title, resp.description, [\n",
    "        {\n",
    "            \"title\": choice1.title,\n",
    "            \"description\": choice1.story_description,\n",
    "            \"options\": [choice.choice_title for choice in choice1.user_choices],\n",
    "            \"user_choice\": choice1.user_choices[0].choice_title,\n",
    "        },\n",
    "        {\n",
    "            \"title\": choice2.title,\n",
    "            \"description\": choice2.story_description,\n",
    "            \"options\": [choice.choice_title for choice in choice2.user_choices],\n",
    "            \"user_choice\": choice2.user_choices[0].choice_title,\n",
    "        },\n",
    "        {\n",
    "            \"title\": choice3.title,\n",
    "            \"description\": choice3.story_description,\n",
    "            \"options\": [choice.choice_title for choice in choice3.user_choices],\n",
    "            \"user_choice\": choice3.user_choices[0].choice_title,\n",
    "        },\n",
    "    ],\n",
    ")\n",
    "\n",
    "print(end_story)"
   ]
  },
  {
   "cell_type": "code",
   "execution_count": 113,
   "metadata": {},
   "outputs": [
    {
     "data": {
      "text/html": [
       "<pre style=\"white-space:pre;overflow-x:auto;line-height:normal;font-family:Menlo,'DejaVu Sans Mono',consolas,'Courier New',monospace\">Generating final story conclusion\n",
       "</pre>\n"
      ],
      "text/plain": [
       "Generating final story conclusion\n"
      ]
     },
     "metadata": {},
     "output_type": "display_data"
    },
    {
     "data": {
      "text/html": [
       "<pre style=\"white-space:pre;overflow-x:auto;line-height:normal;font-family:Menlo,'DejaVu Sans Mono',consolas,'Courier New',monospace\"><span style=\"color: #800080; text-decoration-color: #800080; font-weight: bold\">StoryNode</span><span style=\"font-weight: bold\">(</span>\n",
       "    <span style=\"color: #808000; text-decoration-color: #808000\">title</span>=<span style=\"color: #008000; text-decoration-color: #008000\">'Sanctuary of the Old World'</span>,\n",
       "    <span style=\"color: #808000; text-decoration-color: #808000\">description</span>=<span style=\"color: #008000; text-decoration-color: #008000\">'Elias, battered but resolute, pressed on through the treacherous landscape, the weight of his </span>\n",
       "<span style=\"color: #008000; text-decoration-color: #008000\">journal now a source of strength, not just a burden. He navigated through the collapsing structures and the </span>\n",
       "<span style=\"color: #008000; text-decoration-color: #008000\">remnants of the old world, seeking a place hidden from the reach of those who coveted the past for their own gain. </span>\n",
       "<span style=\"color: #008000; text-decoration-color: #008000\">Finally, in the heart of the ruined city, he found an old underground bunker, its entrance obscured by debris. </span>\n",
       "<span style=\"color: #008000; text-decoration-color: #008000\">Inside, he started rebuilding a new sanctuary, not only for the preservation of the knowledge, but also as a beacon</span>\n",
       "<span style=\"color: #008000; text-decoration-color: #008000\">of hope for the future. The stories within his journal would become the foundation of a new world, proving that </span>\n",
       "<span style=\"color: #008000; text-decoration-color: #008000\">even in the most desolate times, the echoes of the past can light the way forward.'</span>,\n",
       "    <span style=\"color: #808000; text-decoration-color: #808000\">user_choices</span>=<span style=\"font-weight: bold\">[]</span>\n",
       "<span style=\"font-weight: bold\">)</span>\n",
       "</pre>\n"
      ],
      "text/plain": [
       "\u001b[1;35mStoryNode\u001b[0m\u001b[1m(\u001b[0m\n",
       "    \u001b[33mtitle\u001b[0m=\u001b[32m'Sanctuary of the Old World'\u001b[0m,\n",
       "    \u001b[33mdescription\u001b[0m=\u001b[32m'Elias, battered but resolute, pressed on through the treacherous landscape, the weight of his \u001b[0m\n",
       "\u001b[32mjournal now a source of strength, not just a burden. He navigated through the collapsing structures and the \u001b[0m\n",
       "\u001b[32mremnants of the old world, seeking a place hidden from the reach of those who coveted the past for their own gain. \u001b[0m\n",
       "\u001b[32mFinally, in the heart of the ruined city, he found an old underground bunker, its entrance obscured by debris. \u001b[0m\n",
       "\u001b[32mInside, he started rebuilding a new sanctuary, not only for the preservation of the knowledge, but also as a beacon\u001b[0m\n",
       "\u001b[32mof hope for the future. The stories within his journal would become the foundation of a new world, proving that \u001b[0m\n",
       "\u001b[32meven in the most desolate times, the echoes of the past can light the way forward.'\u001b[0m,\n",
       "    \u001b[33muser_choices\u001b[0m=\u001b[1m[\u001b[0m\u001b[1m]\u001b[0m\n",
       "\u001b[1m)\u001b[0m\n"
      ]
     },
     "metadata": {},
     "output_type": "display_data"
    }
   ],
   "source": [
    "choices = [\n",
    "    {\n",
    "        \"options\": [\n",
    "            choice.user_choices[0].choice_title,\n",
    "            choice.user_choices[1].choice_title,\n",
    "        ],\n",
    "        \"user_choice\": {\n",
    "            \"title\": choice.user_choices[0].choice_title,\n",
    "        },\n",
    "        \"context\": choice.description,\n",
    "    },\n",
    "    {\n",
    "        \"options\": [\n",
    "            choice2.user_choices[1].choice_title,\n",
    "            choice2.user_choices[0].choice_title,\n",
    "        ],\n",
    "        \"user_choice\": {\n",
    "            \"title\": choice2.user_choices[1].choice_title,\n",
    "        },\n",
    "        \"context\": choice2.description,\n",
    "    },\n",
    "]\n",
    "# client.on(\"completion:kwargs\", lambda *args, **kwargs: print(kwargs))\n",
    "choice3 = get_story_node(client, resp.title, resp.description, choices, 3)\n",
    "print(choice3)"
   ]
  }
 ],
 "metadata": {
  "kernelspec": {
   "display_name": ".venv",
   "language": "python",
   "name": "python3"
  },
  "language_info": {
   "codemirror_mode": {
    "name": "ipython",
    "version": 3
   },
   "file_extension": ".py",
   "mimetype": "text/x-python",
   "name": "python",
   "nbconvert_exporter": "python",
   "pygments_lexer": "ipython3",
   "version": "3.12.7"
  }
 },
 "nbformat": 4,
 "nbformat_minor": 2
}
